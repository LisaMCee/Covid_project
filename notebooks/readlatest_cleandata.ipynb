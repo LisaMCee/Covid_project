{
 "cells": [
  {
   "cell_type": "code",
   "execution_count": 27,
   "metadata": {},
   "outputs": [],
   "source": [
    "import pandas as pd\n",
    "import numpy as np\n",
    "import copy\n",
    "import requests\n",
    "import json\n",
    "from datetime import timedelta, date, datetime\n",
    "import os"
   ]
  },
  {
   "cell_type": "markdown",
   "metadata": {},
   "source": [
    "## Read in and clean the latest COVID data"
   ]
  },
  {
   "cell_type": "code",
   "execution_count": 28,
   "metadata": {},
   "outputs": [],
   "source": [
    "data = requests.get('http://pomber.github.io/covid19/timeseries.json').json()"
   ]
  },
  {
   "cell_type": "code",
   "execution_count": 29,
   "metadata": {},
   "outputs": [],
   "source": [
    "#Generate dataframe from json data: Cumulative data\n",
    "keys_countries= data.keys() \n",
    "df=pd.DataFrame()\n",
    "for key in data:\n",
    "    df1= pd.json_normalize(data[key])\n",
    "    df1['Country']=key\n",
    "    df= df.append(df1)\n",
    "\n"
   ]
  },
  {
   "cell_type": "code",
   "execution_count": 30,
   "metadata": {},
   "outputs": [
    {
     "data": {
      "text/html": [
       "<div>\n",
       "<style scoped>\n",
       "    .dataframe tbody tr th:only-of-type {\n",
       "        vertical-align: middle;\n",
       "    }\n",
       "\n",
       "    .dataframe tbody tr th {\n",
       "        vertical-align: top;\n",
       "    }\n",
       "\n",
       "    .dataframe thead th {\n",
       "        text-align: right;\n",
       "    }\n",
       "</style>\n",
       "<table border=\"1\" class=\"dataframe\">\n",
       "  <thead>\n",
       "    <tr style=\"text-align: right;\">\n",
       "      <th></th>\n",
       "      <th>date</th>\n",
       "      <th>confirmed</th>\n",
       "      <th>deaths</th>\n",
       "      <th>recovered</th>\n",
       "      <th>Country</th>\n",
       "    </tr>\n",
       "  </thead>\n",
       "  <tbody>\n",
       "    <tr>\n",
       "      <th>0</th>\n",
       "      <td>2020-1-22</td>\n",
       "      <td>0</td>\n",
       "      <td>0</td>\n",
       "      <td>0</td>\n",
       "      <td>Afghanistan</td>\n",
       "    </tr>\n",
       "    <tr>\n",
       "      <th>1</th>\n",
       "      <td>2020-1-23</td>\n",
       "      <td>0</td>\n",
       "      <td>0</td>\n",
       "      <td>0</td>\n",
       "      <td>Afghanistan</td>\n",
       "    </tr>\n",
       "    <tr>\n",
       "      <th>2</th>\n",
       "      <td>2020-1-24</td>\n",
       "      <td>0</td>\n",
       "      <td>0</td>\n",
       "      <td>0</td>\n",
       "      <td>Afghanistan</td>\n",
       "    </tr>\n",
       "    <tr>\n",
       "      <th>3</th>\n",
       "      <td>2020-1-25</td>\n",
       "      <td>0</td>\n",
       "      <td>0</td>\n",
       "      <td>0</td>\n",
       "      <td>Afghanistan</td>\n",
       "    </tr>\n",
       "    <tr>\n",
       "      <th>4</th>\n",
       "      <td>2020-1-26</td>\n",
       "      <td>0</td>\n",
       "      <td>0</td>\n",
       "      <td>0</td>\n",
       "      <td>Afghanistan</td>\n",
       "    </tr>\n",
       "    <tr>\n",
       "      <th>...</th>\n",
       "      <td>...</td>\n",
       "      <td>...</td>\n",
       "      <td>...</td>\n",
       "      <td>...</td>\n",
       "      <td>...</td>\n",
       "    </tr>\n",
       "    <tr>\n",
       "      <th>541</th>\n",
       "      <td>2021-7-16</td>\n",
       "      <td>81168</td>\n",
       "      <td>2520</td>\n",
       "      <td>51139</td>\n",
       "      <td>Zimbabwe</td>\n",
       "    </tr>\n",
       "    <tr>\n",
       "      <th>542</th>\n",
       "      <td>2021-7-17</td>\n",
       "      <td>82613</td>\n",
       "      <td>2588</td>\n",
       "      <td>51923</td>\n",
       "      <td>Zimbabwe</td>\n",
       "    </tr>\n",
       "    <tr>\n",
       "      <th>543</th>\n",
       "      <td>2021-7-18</td>\n",
       "      <td>83619</td>\n",
       "      <td>2622</td>\n",
       "      <td>53453</td>\n",
       "      <td>Zimbabwe</td>\n",
       "    </tr>\n",
       "    <tr>\n",
       "      <th>544</th>\n",
       "      <td>2021-7-19</td>\n",
       "      <td>85732</td>\n",
       "      <td>2697</td>\n",
       "      <td>55714</td>\n",
       "      <td>Zimbabwe</td>\n",
       "    </tr>\n",
       "    <tr>\n",
       "      <th>545</th>\n",
       "      <td>2021-7-20</td>\n",
       "      <td>88415</td>\n",
       "      <td>2747</td>\n",
       "      <td>58155</td>\n",
       "      <td>Zimbabwe</td>\n",
       "    </tr>\n",
       "  </tbody>\n",
       "</table>\n",
       "<p>106470 rows × 5 columns</p>\n",
       "</div>"
      ],
      "text/plain": [
       "          date  confirmed  deaths  recovered      Country\n",
       "0    2020-1-22          0       0          0  Afghanistan\n",
       "1    2020-1-23          0       0          0  Afghanistan\n",
       "2    2020-1-24          0       0          0  Afghanistan\n",
       "3    2020-1-25          0       0          0  Afghanistan\n",
       "4    2020-1-26          0       0          0  Afghanistan\n",
       "..         ...        ...     ...        ...          ...\n",
       "541  2021-7-16      81168    2520      51139     Zimbabwe\n",
       "542  2021-7-17      82613    2588      51923     Zimbabwe\n",
       "543  2021-7-18      83619    2622      53453     Zimbabwe\n",
       "544  2021-7-19      85732    2697      55714     Zimbabwe\n",
       "545  2021-7-20      88415    2747      58155     Zimbabwe\n",
       "\n",
       "[106470 rows x 5 columns]"
      ]
     },
     "execution_count": 30,
     "metadata": {},
     "output_type": "execute_result"
    }
   ],
   "source": [
    "df"
   ]
  },
  {
   "cell_type": "code",
   "execution_count": 31,
   "metadata": {},
   "outputs": [],
   "source": [
    "# Dataframe with daily cases per country (above is cumulatve)\n",
    "keys_countries= data.keys() \n",
    "df_daily=pd.DataFrame()\n",
    "for key in data:\n",
    "    df1= pd.json_normalize(data[key])\n",
    "    df1.set_index(['date'],inplace=True)\n",
    "    df2=copy.deepcopy(df1)\n",
    "    for col in df2.columns:\n",
    "        df2[col]=df2[col]- df2[col].shift(1)\n",
    "    df2['Country']=key\n",
    "    df_daily= df_daily.append(df2)\n",
    "df_daily.reset_index(inplace=True)\n"
   ]
  },
  {
   "cell_type": "markdown",
   "metadata": {},
   "source": [
    "## Adjust cumulative and daily COVID data per hundred thousand population"
   ]
  },
  {
   "cell_type": "code",
   "execution_count": 32,
   "metadata": {},
   "outputs": [],
   "source": [
    "# Get population data\n",
    "url = 'https://data.un.org/_Docs/SYB/CSV/SYB63_1_202105_Population,%20Surface%20Area%20and%20Density.csv'\n",
    "df_data= pd.read_csv(url, header=1)\n"
   ]
  },
  {
   "cell_type": "code",
   "execution_count": 33,
   "metadata": {},
   "outputs": [],
   "source": [
    "#df with just country and population, convert from ('millions')\n",
    "df_pops=df_data[(df_data['Year']==2019)&(df_data['Series']==df_data.Series[0])][['Unnamed: 1','Value']]\n",
    "df_pops.columns=['Country', 'Population']\n",
    "df_pops.Population = df_pops.Population*1000000"
   ]
  },
  {
   "cell_type": "code",
   "execution_count": 34,
   "metadata": {},
   "outputs": [
    {
     "name": "stdout",
     "output_type": "stream",
     "text": [
      "['Bolivia (Plurin. State of)', 'Venezuela (Boliv. Rep. of)']\n",
      "Bolivia: type index to keep or else F\n"
     ]
    },
    {
     "ename": "KeyboardInterrupt",
     "evalue": "Interrupted by user",
     "output_type": "error",
     "traceback": [
      "\u001b[0;31m---------------------------------------------------------------------------\u001b[0m",
      "\u001b[0;31mKeyboardInterrupt\u001b[0m                         Traceback (most recent call last)",
      "\u001b[0;32m<ipython-input-34-e37266f7496e>\u001b[0m in \u001b[0;36m<module>\u001b[0;34m\u001b[0m\n\u001b[1;32m     17\u001b[0m         \u001b[0mprint\u001b[0m\u001b[0;34m(\u001b[0m\u001b[0mresult\u001b[0m\u001b[0;34m)\u001b[0m\u001b[0;34m\u001b[0m\u001b[0;34m\u001b[0m\u001b[0m\n\u001b[1;32m     18\u001b[0m         \u001b[0mprint\u001b[0m\u001b[0;34m(\u001b[0m\u001b[0mcountry\u001b[0m \u001b[0;34m+\u001b[0m \u001b[0;34m': type index to keep or else F'\u001b[0m\u001b[0;34m)\u001b[0m\u001b[0;34m\u001b[0m\u001b[0;34m\u001b[0m\u001b[0m\n\u001b[0;32m---> 19\u001b[0;31m         \u001b[0mx\u001b[0m \u001b[0;34m=\u001b[0m \u001b[0minput\u001b[0m\u001b[0;34m(\u001b[0m\u001b[0;34m)\u001b[0m\u001b[0;34m\u001b[0m\u001b[0;34m\u001b[0m\u001b[0m\n\u001b[0m\u001b[1;32m     20\u001b[0m         \u001b[0;32mif\u001b[0m \u001b[0mx\u001b[0m \u001b[0;34m==\u001b[0m \u001b[0;34m'F'\u001b[0m\u001b[0;34m:\u001b[0m\u001b[0;34m\u001b[0m\u001b[0;34m\u001b[0m\u001b[0m\n\u001b[1;32m     21\u001b[0m             \u001b[0mnew\u001b[0m\u001b[0;34m=\u001b[0m\u001b[0mcountry\u001b[0m\u001b[0;34m\u001b[0m\u001b[0;34m\u001b[0m\u001b[0m\n",
      "\u001b[0;32m~/opt/anaconda3/envs/VIZ/lib/python3.6/site-packages/ipykernel/kernelbase.py\u001b[0m in \u001b[0;36mraw_input\u001b[0;34m(self, prompt)\u001b[0m\n\u001b[1;32m    861\u001b[0m             \u001b[0mself\u001b[0m\u001b[0;34m.\u001b[0m\u001b[0m_parent_ident\u001b[0m\u001b[0;34m,\u001b[0m\u001b[0;34m\u001b[0m\u001b[0;34m\u001b[0m\u001b[0m\n\u001b[1;32m    862\u001b[0m             \u001b[0mself\u001b[0m\u001b[0;34m.\u001b[0m\u001b[0m_parent_header\u001b[0m\u001b[0;34m,\u001b[0m\u001b[0;34m\u001b[0m\u001b[0;34m\u001b[0m\u001b[0m\n\u001b[0;32m--> 863\u001b[0;31m             \u001b[0mpassword\u001b[0m\u001b[0;34m=\u001b[0m\u001b[0;32mFalse\u001b[0m\u001b[0;34m,\u001b[0m\u001b[0;34m\u001b[0m\u001b[0;34m\u001b[0m\u001b[0m\n\u001b[0m\u001b[1;32m    864\u001b[0m         )\n\u001b[1;32m    865\u001b[0m \u001b[0;34m\u001b[0m\u001b[0m\n",
      "\u001b[0;32m~/opt/anaconda3/envs/VIZ/lib/python3.6/site-packages/ipykernel/kernelbase.py\u001b[0m in \u001b[0;36m_input_request\u001b[0;34m(self, prompt, ident, parent, password)\u001b[0m\n\u001b[1;32m    902\u001b[0m             \u001b[0;32mexcept\u001b[0m \u001b[0mKeyboardInterrupt\u001b[0m\u001b[0;34m:\u001b[0m\u001b[0;34m\u001b[0m\u001b[0;34m\u001b[0m\u001b[0m\n\u001b[1;32m    903\u001b[0m                 \u001b[0;31m# re-raise KeyboardInterrupt, to truncate traceback\u001b[0m\u001b[0;34m\u001b[0m\u001b[0;34m\u001b[0m\u001b[0;34m\u001b[0m\u001b[0m\n\u001b[0;32m--> 904\u001b[0;31m                 \u001b[0;32mraise\u001b[0m \u001b[0mKeyboardInterrupt\u001b[0m\u001b[0;34m(\u001b[0m\u001b[0;34m\"Interrupted by user\"\u001b[0m\u001b[0;34m)\u001b[0m \u001b[0;32mfrom\u001b[0m \u001b[0;32mNone\u001b[0m\u001b[0;34m\u001b[0m\u001b[0;34m\u001b[0m\u001b[0m\n\u001b[0m\u001b[1;32m    905\u001b[0m             \u001b[0;32mexcept\u001b[0m \u001b[0mException\u001b[0m \u001b[0;32mas\u001b[0m \u001b[0me\u001b[0m\u001b[0;34m:\u001b[0m\u001b[0;34m\u001b[0m\u001b[0;34m\u001b[0m\u001b[0m\n\u001b[1;32m    906\u001b[0m                 \u001b[0mself\u001b[0m\u001b[0;34m.\u001b[0m\u001b[0mlog\u001b[0m\u001b[0;34m.\u001b[0m\u001b[0mwarning\u001b[0m\u001b[0;34m(\u001b[0m\u001b[0;34m\"Invalid Message:\"\u001b[0m\u001b[0;34m,\u001b[0m \u001b[0mexc_info\u001b[0m\u001b[0;34m=\u001b[0m\u001b[0;32mTrue\u001b[0m\u001b[0;34m)\u001b[0m\u001b[0;34m\u001b[0m\u001b[0;34m\u001b[0m\u001b[0m\n",
      "\u001b[0;31mKeyboardInterrupt\u001b[0m: Interrupted by user"
     ]
    }
   ],
   "source": [
    "#Convert country names if different in population vs covid datasets\n",
    "\n",
    "#Create dictionary for names to change \n",
    "countries_pops=pd.unique(df_pops.Country)\n",
    "\n",
    "countries_namechange= []\n",
    "for country in (pd.unique(df.Country)):\n",
    "    if country not in (pd.unique(df_pops.Country)):\n",
    "        countries_namechange.append(country)\n",
    "        \n",
    "countries_namechange\n",
    "new_names={}\n",
    "for country in countries_namechange:\n",
    "    to_check= country[:4]\n",
    "    result = [v for v in countries_pops if to_check in v]\n",
    "    if result:\n",
    "        print(result)\n",
    "        print(country + ': type index to keep or else F')\n",
    "        x = input()\n",
    "        if x == 'F':\n",
    "            new=country\n",
    "            print('no match')\n",
    "        else:\n",
    "            new=result[int(x)]\n",
    "            print('{} is changed to {}'.format(country, new))\n",
    "    else:\n",
    "        print(country, ': no match')\n",
    "        new=country\n",
    "    new_names[country]= new\n",
    "\n"
   ]
  },
  {
   "cell_type": "code",
   "execution_count": null,
   "metadata": {},
   "outputs": [],
   "source": [
    "#save to json file\n",
    "with open('../data/interim/country_namechanges.json', 'w') as fp:\n",
    "    json.dump(new_names, fp)"
   ]
  },
  {
   "cell_type": "code",
   "execution_count": 35,
   "metadata": {},
   "outputs": [],
   "source": [
    "#after doing this once, just load the file\n",
    "with open('../data/interim/country_namechanges.json', 'r') as fp:\n",
    "    new_names = json.load(fp)"
   ]
  },
  {
   "cell_type": "code",
   "execution_count": 36,
   "metadata": {},
   "outputs": [],
   "source": [
    "#convert the names in covid data to names in the population data\n",
    "new_names['US']='United States'\n",
    "new_names['United States of America']='United States'\n",
    "for key in new_names:\n",
    "    df.replace(to_replace=key, value=new_names[key], inplace=True)\n",
    "    df_daily.replace(to_replace=key, value=new_names[key], inplace=True)\n",
    "    df_pops.replace(to_replace=key, value=new_names[key], inplace=True)\n",
    "    df_data.replace(to_replace=key, value=new_names[key], inplace=True)"
   ]
  },
  {
   "cell_type": "code",
   "execution_count": 37,
   "metadata": {},
   "outputs": [],
   "source": [
    "#convert dates to datetime objects\n",
    "df_daily.date = pd.to_datetime(df_daily.date)\n",
    "df.date = pd.to_datetime(df.date)\n"
   ]
  },
  {
   "cell_type": "code",
   "execution_count": 38,
   "metadata": {},
   "outputs": [],
   "source": [
    "#Add populations to the cumulative and daily COVID dataframes\n",
    "cumulative_df_pops = pd.merge(df, df_pops, on='Country')\n",
    "daily_df_pops = pd.merge(df_daily, df_pops, on='Country')"
   ]
  },
  {
   "cell_type": "code",
   "execution_count": 39,
   "metadata": {},
   "outputs": [],
   "source": [
    "#consistent column order for daily and cumulative dfs\n",
    "col_order=cumulative_df_pops.columns\n",
    "daily_df_pops = daily_df_pops[col_order]\n"
   ]
  },
  {
   "cell_type": "code",
   "execution_count": 40,
   "metadata": {},
   "outputs": [],
   "source": [
    "# Create dataframes with cases and deaths per hundred thousand of each country's population (cumulative and daily values)\n",
    "per100Th_cumulative = copy.deepcopy(cumulative_df_pops)\n",
    "\n",
    "for col in col_order[1:4]:\n",
    "    per100Th_cumulative[col]= per100Th_cumulative[col]*100000/(per100Th_cumulative['Population']).apply(pd.to_numeric, errors='coerce')\n",
    "per100Th_daily=copy.deepcopy(daily_df_pops)\n",
    "for col in col_order[1:4]:\n",
    "    per100Th_daily[col]= per100Th_daily[col]*100000/(per100Th_daily['Population']).apply(pd.to_numeric, errors='coerce')\n"
   ]
  },
  {
   "cell_type": "code",
   "execution_count": 41,
   "metadata": {},
   "outputs": [],
   "source": [
    "df.to_csv('../data/interim/cumulative_coviddata.csv')\n",
    "df_daily.to_csv('../data/interim/daily_coviddata.csv')\n",
    "per100Th_cumulative.to_csv('../data/interim/cumulative_PHT_coviddata.csv')\n",
    "per100Th_daily.to_csv('../data/interim/daily_PHT_coviddata.csv')"
   ]
  },
  {
   "cell_type": "code",
   "execution_count": null,
   "metadata": {},
   "outputs": [],
   "source": []
  },
  {
   "cell_type": "code",
   "execution_count": 48,
   "metadata": {},
   "outputs": [
    {
     "data": {
      "text/plain": [
       "Timestamp('2020-01-22 00:00:00')"
      ]
     },
     "execution_count": 48,
     "metadata": {},
     "output_type": "execute_result"
    }
   ],
   "source": [
    "df.iloc[0,0]"
   ]
  },
  {
   "cell_type": "code",
   "execution_count": 26,
   "metadata": {},
   "outputs": [],
   "source": []
  },
  {
   "cell_type": "code",
   "execution_count": null,
   "metadata": {},
   "outputs": [],
   "source": []
  }
 ],
 "metadata": {
  "kernelspec": {
   "display_name": "VIZ",
   "language": "python",
   "name": "viz"
  },
  "language_info": {
   "codemirror_mode": {
    "name": "ipython",
    "version": 3
   },
   "file_extension": ".py",
   "mimetype": "text/x-python",
   "name": "python",
   "nbconvert_exporter": "python",
   "pygments_lexer": "ipython3",
   "version": "3.6.12"
  }
 },
 "nbformat": 4,
 "nbformat_minor": 4
}
