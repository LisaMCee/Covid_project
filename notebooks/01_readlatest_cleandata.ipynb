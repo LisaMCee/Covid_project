{
 "cells": [
  {
   "cell_type": "code",
   "execution_count": null,
   "metadata": {},
   "outputs": [],
   "source": [
    "\n",
    "import sys\n",
    "from pathlib import Path"
   ]
  },
  {
   "cell_type": "code",
   "execution_count": 2,
   "metadata": {},
   "outputs": [],
   "source": [
    "sys.path.append('../src/data')\n",
    "                \n",
    "from make_dataset import *"
   ]
  },
  {
   "cell_type": "markdown",
   "metadata": {},
   "source": [
    "## Read in, clean and save the latest COVID data"
   ]
  },
  {
   "cell_type": "code",
   "execution_count": 5,
   "metadata": {},
   "outputs": [
    {
     "name": "stdout",
     "output_type": "stream",
     "text": [
      "Getting latest COVID cumulative cases\n",
      "Getting latest COVID daily cases\n",
      "Calculating cases and deaths per hundred thousand population\n",
      "Calculating cases and deaths per hundred thousand population\n"
     ]
    }
   ],
   "source": [
    "df_cumulative,df_daily, data_df_PHT_cumul, data_df_PHT_daily = get_all_datasets()"
   ]
  },
  {
   "cell_type": "code",
   "execution_count": 6,
   "metadata": {},
   "outputs": [
    {
     "name": "stdout",
     "output_type": "stream",
     "text": [
      "Saving ../data/interim/df_cumulative.csv...\n",
      "Saved\n",
      "Saving ../data/interim/df_daily.csv...\n",
      "Saved\n",
      "Saving ../data/interim/data_df_PHT_cumul.csv...\n",
      "Saved\n",
      "Saving ../data/interim/data_df_PHT_daily.csv...\n",
      "Saved\n"
     ]
    }
   ],
   "source": [
    "for df in ['df_cumulative','df_daily','data_df_PHT_cumul', 'data_df_PHT_daily']:\n",
    "    save_df= locals()[df]\n",
    "    save_data(save_df,df, '../data', 'interim')"
   ]
  },
  {
   "cell_type": "code",
   "execution_count": null,
   "metadata": {},
   "outputs": [],
   "source": []
  }
 ],
 "metadata": {
  "kernelspec": {
   "display_name": "VIZ",
   "language": "python",
   "name": "viz"
  },
  "language_info": {
   "codemirror_mode": {
    "name": "ipython",
    "version": 3
   },
   "file_extension": ".py",
   "mimetype": "text/x-python",
   "name": "python",
   "nbconvert_exporter": "python",
   "pygments_lexer": "ipython3",
   "version": "3.6.12"
  }
 },
 "nbformat": 4,
 "nbformat_minor": 4
}
